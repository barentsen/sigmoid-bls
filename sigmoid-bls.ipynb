{
 "cells": [
  {
   "cell_type": "markdown",
   "metadata": {},
   "source": [
    "# The era of BLS planet searches is over!\n",
    "\n",
    "The \"box function\" does not have analytical maximim likelihood estimators for all its parameters, requiring the use of a grid search to sample $t_0$ and $w$. Let's see if a sum of two logistic functions offers better properties."
   ]
  },
  {
   "cell_type": "markdown",
   "metadata": {},
   "source": [
    "Define a simplified version of the [generalised logistic function](https://en.wikipedia.org/wiki/Generalised_logistic_function) as:\n",
    "\n",
    "$$GL(t, a, k, t_0) = a + \\frac{k-a}{1 + e^{-b(t-t_0)}}$$\n",
    "\n",
    "where $t$ is time, $a$ is the lower asymptote, and $k$ is the upper asymptote. The growth rate $b$ can be assumed constant, we'll use $b=5$.\n",
    "\n",
    "We can then define a box-like function as:\n",
    "\n",
    "$$box(t) = GL(t, h/2, h/2+d, t_0+w) + GL(t, h/2, h/2-d, t_0)$$\n",
    "\n",
    "where $h$ is the lightcurve baseline height, $d$ is the transit depth, $w$ is the transit width, and $t_0$ is the transit start. The maths work out as:\n",
    "\n",
    "$$box(t) = h + \\frac{d}{1 + e^{-b(t-t_0-w)}} - \\frac{d}{1 + e^{-b(t-t_0)}}$$"
   ]
  },
  {
   "cell_type": "markdown",
   "metadata": {},
   "source": [
    "Assuming a lightcurve $Y_i$ is subject to uncorreclted Gaussian noise:\n",
    "\n",
    "$$Y_i \\sim \\mathcal{N}(box(t), \\sigma^2)$$,\n",
    "\n",
    "the joint probability density function of $\\boldsymbol{Y}$ can be written as:\n",
    "$$\n",
    "\\begin{align} p(\\boldsymbol{y}) = \\prod_{i=1}^{n} p(y_i) = TBD\n",
    "\\end{align}\n",
    "$$"
   ]
  },
  {
   "cell_type": "markdown",
   "metadata": {},
   "source": [
    "This function may or may not have an analytical maximum likelihood solution. This is where we need Ze's help."
   ]
  },
  {
   "cell_type": "markdown",
   "metadata": {},
   "source": [
    "## Example"
   ]
  },
  {
   "cell_type": "code",
   "execution_count": 2,
   "metadata": {
    "collapsed": true
   },
   "outputs": [],
   "source": [
    "from numpy import e\n",
    "import numpy as np\n",
    "import matplotlib.pyplot as pl\n",
    "%matplotlib inline"
   ]
  },
  {
   "cell_type": "code",
   "execution_count": 3,
   "metadata": {},
   "outputs": [
    {
     "data": {
      "text/plain": [
       "[<matplotlib.lines.Line2D at 0x7f8a67cf7f60>]"
      ]
     },
     "execution_count": 3,
     "metadata": {},
     "output_type": "execute_result"
    },
    {
     "data": {
      "image/png": "[encoded data removed]",
      "text/plain": [
       "<matplotlib.figure.Figure at 0x7f8a6b349b70>"
      ]
     },
     "metadata": {},
     "output_type": "display_data"
    }
   ],
   "source": [
    "def geerts_logistic(t, a, k, t0, b=5.):\n",
    "    return a + (k - a) / (1 + e**(-(b*(t-t0))))\n",
    "\n",
    "def transit_model(t0=1, width=4, baseline=2., depth=0.2):\n",
    "    t = np.arange(-3, 10, 0.01)\n",
    "    x = geerts_logistic(t, a=baseline/2, k=baseline/2+depth, t0=t0+width)\n",
    "    x += geerts_logistic(t, a=baseline/2, k=baseline/2-depth, t0=t0)\n",
    "    return t, x\n",
    "\n",
    "t, x = transit_model()\n",
    "pl.plot(t, x)"
   ]
  },
  {
   "cell_type": "code",
   "execution_count": null,
   "metadata": {
    "collapsed": true
   },
   "outputs": [],
   "source": []
  }
 ],
 "metadata": {
  "kernelspec": {
   "display_name": "Python 3",
   "language": "python",
   "name": "python3"
  },
  "language_info": {
   "codemirror_mode": {
    "name": "ipython",
    "version": 3
   },
   "file_extension": ".py",
   "mimetype": "text/x-python",
   "name": "python",
   "nbconvert_exporter": "python",
   "pygments_lexer": "ipython3",
   "version": "3.6.2"
  }
 },
 "nbformat": 4,
 "nbformat_minor": 2
}
